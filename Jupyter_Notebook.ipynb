{
  "metadata": {
    "kernelspec": {
      "name": "python",
      "display_name": "Pyolite",
      "language": "python"
    },
    "language_info": {
      "codemirror_mode": {
        "name": "python",
        "version": 3
      },
      "file_extension": ".py",
      "mimetype": "text/x-python",
      "name": "python",
      "nbconvert_exporter": "python",
      "pygments_lexer": "ipython3",
      "version": "3.8"
    }
  },
  "nbformat_minor": 4,
  "nbformat": 4,
  "cells": [
    {
      "cell_type": "markdown",
      "source": "<center>\n    <img src=\"https://s3-api.us-geo.objectstorage.softlayer.net/cf-courses-data/CognitiveClass/Logos/organization_logo/organization_logo.png\" width=\"300\" alt=\"cognitiveclass.ai logo\"  />\n</center>\n",
      "metadata": {}
    },
    {
      "cell_type": "markdown",
      "source": "#### Add your code below following the instructions given in the course\n",
      "metadata": {}
    },
    {
      "cell_type": "markdown",
      "source": "# My Jupyter Notebook on IBM Watson Studio",
      "metadata": {}
    },
    {
      "cell_type": "markdown",
      "source": "**Mohamed Salah**\n\nAssistant Professor",
      "metadata": {}
    },
    {
      "cell_type": "markdown",
      "source": "*I am interested in Data Science because I would like to be a Data Scientist or Machine Learning Engineer. My research work is related to the applicatio of machine learning algorithms to smart grids*",
      "metadata": {}
    },
    {
      "cell_type": "markdown",
      "source": "### The next part expalains a syntax to distingush between odd and even numbers",
      "metadata": {}
    },
    {
      "cell_type": "code",
      "source": "1 + 1",
      "metadata": {
        "trusted": true
      },
      "execution_count": 2,
      "outputs": [
        {
          "execution_count": 2,
          "output_type": "execute_result",
          "data": {
            "text/plain": "2"
          },
          "metadata": {}
        }
      ]
    },
    {
      "cell_type": "markdown",
      "source": "Coursera website can be reached through this URL link\n[Link](https://www.coursera.org/)\n\nThe IBM Data Science Professional Certificate consists of 10 courses \n\n1. What is Data Science?\n2. Tools for Data Science\n3. Data Science Methodology\n4. Python for Data Science, AI & Development\n5. Python Project for Data Science\n6. Databases and SQL for Data Science with Python\n7. Data Analysis with Python\n8. Data Visualization with Python\n9. Machine Learning with Python\n10. Applied Data Science Capstone\n\nUntil now we are just finished two of them which are \n* What is Data Science?\n* Tools for Data Science",
      "metadata": {}
    },
    {
      "cell_type": "code",
      "source": "",
      "metadata": {},
      "execution_count": null,
      "outputs": []
    }
  ]
}